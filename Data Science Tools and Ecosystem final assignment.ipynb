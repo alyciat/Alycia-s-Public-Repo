{
 "cells": [
  {
   "cell_type": "markdown",
   "id": "4e6881f0",
   "metadata": {},
   "source": [
    "# Data Sciences Tools and Ecosystem "
   ]
  },
  {
   "cell_type": "markdown",
   "id": "91119837",
   "metadata": {},
   "source": [
    "## Author: "
   ]
  },
  {
   "cell_type": "markdown",
   "id": "4d0df4a8",
   "metadata": {},
   "source": [
    "Alycia Torres"
   ]
  },
  {
   "cell_type": "markdown",
   "id": "076e3c0e",
   "metadata": {},
   "source": [
    "In this notebook Data Science tools and ecosystem are summarized."
   ]
  },
  {
   "cell_type": "markdown",
   "id": "6b490f41",
   "metadata": {},
   "source": [
    "**Objective:**"
   ]
  },
  {
   "cell_type": "markdown",
   "id": "1a3edbc1",
   "metadata": {},
   "source": [
    "* List popular languages used in Data Science\n",
    "* List popular libraries used in Data Science\n",
    "* List different open source Data Science Tools "
   ]
  },
  {
   "cell_type": "markdown",
   "id": "4fedccaf",
   "metadata": {},
   "source": [
    "Popular languages used in Data Science are:"
   ]
  },
  {
   "cell_type": "markdown",
   "id": "66f93230",
   "metadata": {},
   "source": [
    "* Python\n",
    "* Java/Java Script \n",
    "* R\n",
    "* SQL \n",
    "* Julia\n",
    "* Scala\n",
    "* C/C++"
   ]
  },
  {
   "cell_type": "markdown",
   "id": "af9edbd7",
   "metadata": {},
   "source": [
    "Commonly used libraries are:"
   ]
  },
  {
   "cell_type": "markdown",
   "id": "53f261a3",
   "metadata": {},
   "source": [
    "* Pandas\n",
    "* TensorFlow\n",
    "* Numpy\n",
    "* Matplotlib\n",
    "* Pytorch\n",
    "* Apache Spark"
   ]
  },
  {
   "cell_type": "markdown",
   "id": "a51bcee1",
   "metadata": {},
   "source": [
    "| Data Science Tools |\n",
    "| --- | \n",
    "| Apache Airflow |\n",
    "| Apache Nifi |\n",
    "| Kube Flow |\n",
    "| Node Red |"
   ]
  },
  {
   "cell_type": "markdown",
   "id": "de90c3b4",
   "metadata": {},
   "source": [
    "### Here are some examples of basic arithmetic functions in Python"
   ]
  },
  {
   "cell_type": "markdown",
   "id": "5fee6fa8",
   "metadata": {},
   "source": [
    "(3*4)+5 "
   ]
  },
  {
   "cell_type": "markdown",
   "id": "fedeb6da",
   "metadata": {},
   "source": [
    "This a simple arithmetic expression to mutiply then add integers"
   ]
  },
  {
   "cell_type": "code",
   "execution_count": 4,
   "id": "57e8f1c4",
   "metadata": {},
   "outputs": [
    {
     "data": {
      "text/plain": [
       "17"
      ]
     },
     "execution_count": 4,
     "metadata": {},
     "output_type": "execute_result"
    }
   ],
   "source": [
    "(3*4)+5"
   ]
  },
  {
   "cell_type": "markdown",
   "id": "ae952bdd",
   "metadata": {},
   "source": [
    "Let's convert minutes into hours."
   ]
  },
  {
   "cell_type": "markdown",
   "id": "a77d1885",
   "metadata": {},
   "source": [
    "180 minutes into hours would look like:"
   ]
  },
  {
   "cell_type": "markdown",
   "id": "a5873161",
   "metadata": {},
   "source": [
    "180/60"
   ]
  },
  {
   "cell_type": "code",
   "execution_count": 7,
   "id": "752ef6ce",
   "metadata": {},
   "outputs": [
    {
     "data": {
      "text/plain": [
       "3.0"
      ]
     },
     "execution_count": 7,
     "metadata": {},
     "output_type": "execute_result"
    }
   ],
   "source": [
    "180/60"
   ]
  }
 ],
 "metadata": {
  "kernelspec": {
   "display_name": "Python 3 (ipykernel)",
   "language": "python",
   "name": "python3"
  },
  "language_info": {
   "codemirror_mode": {
    "name": "ipython",
    "version": 3
   },
   "file_extension": ".py",
   "mimetype": "text/x-python",
   "name": "python",
   "nbconvert_exporter": "python",
   "pygments_lexer": "ipython3",
   "version": "3.11.4"
  }
 },
 "nbformat": 4,
 "nbformat_minor": 5
}
